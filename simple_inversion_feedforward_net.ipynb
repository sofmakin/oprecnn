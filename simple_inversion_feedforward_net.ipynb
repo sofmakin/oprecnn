{
 "cells": [
  {
   "cell_type": "markdown",
   "id": "1851d225-3cfe-47c8-8815-f3b76d9c33cf",
   "metadata": {
    "tags": []
   },
   "source": [
    "## Inversion of 2x2 matrices Using a Feedforward Neural Network"
   ]
  },
  {
   "cell_type": "code",
   "execution_count": 1,
   "id": "8208c544-eb51-4ec9-808f-40468a27cfdd",
   "metadata": {},
   "outputs": [],
   "source": [
    "import torch\n",
    "import numpy as np\n",
    "import matplotlib.pyplot as plt\n",
    "import time\n",
    "from datetime import timedelta"
   ]
  },
  {
   "cell_type": "markdown",
   "id": "acd877a3-c972-4f3e-ac92-11c5e9919966",
   "metadata": {},
   "source": [
    "### Initialize\n",
    "Import the feedforward and operator recurrent neural networks and the learning data from separate files."
   ]
  },
  {
   "cell_type": "code",
   "execution_count": 2,
   "id": "828a08fc-ee38-4cdd-a59b-740facc5ac64",
   "metadata": {},
   "outputs": [],
   "source": [
    "import simple_nn\n",
    "import opnet\n",
    "\n",
    "from simple_inversion_data import generate_data, save_data, load_data\n",
    "PATH = './simple_inversion_net_test.pth'  # define the path used to save trained parameters\n",
    "\n",
    "PATH_OP = './simple_inversion_opnet_test.pth'"
   ]
  },
  {
   "cell_type": "markdown",
   "id": "2d37f305-c70d-4b0b-9dc1-eb5c28d3e2c4",
   "metadata": {},
   "source": [
    "Initialize the parameters for the feedforward network."
   ]
  },
  {
   "cell_type": "code",
   "execution_count": 3,
   "id": "28856f47-621f-440b-8258-a97128faa64a",
   "metadata": {},
   "outputs": [],
   "source": [
    "dim = 4 # length of the data vector\n",
    "num_nodes = 15 # the amount of the nodes in the linear layer between the input and output layers\n",
    "model = simple_nn.NeuralNetwork(dim, num_nodes) # initialize the model\n",
    "loss_fn = torch.nn.MSELoss()  # the loss function\n",
    "l = 1e-1 # the learning rate\n",
    "optimizer = torch.optim.SGD(model.parameters(), lr=l) # optimization"
   ]
  },
  {
   "cell_type": "markdown",
   "id": "ae858820-7e09-4c22-8251-f17b17932929",
   "metadata": {},
   "source": [
    "Initialize the parameters for the operator recurrent network."
   ]
  },
  {
   "cell_type": "code",
   "execution_count": 4,
   "id": "4c5c7d03-c368-4f0b-9bf1-e5bf4ae041bd",
   "metadata": {},
   "outputs": [],
   "source": [
    "dim = 2; \n",
    "num_layers = 11;\n",
    "model_op = opnet.OperatorNet(dim, num_layers)\n",
    "loss_fn_op = torch.nn.MSELoss()  # the loss function\n",
    "l_op = 1e-1 # the learning rate\n",
    "optimizer_op = torch.optim.SGD(model_op.parameters(), lr=l_op) # optimization"
   ]
  },
  {
   "cell_type": "markdown",
   "id": "9f78092c-22d0-4fa7-8528-ce104987e4a7",
   "metadata": {},
   "source": [
    "### Generate the training data"
   ]
  },
  {
   "cell_type": "code",
   "execution_count": 5,
   "id": "1cfa6250-7959-4e34-814a-9da559e2f37b",
   "metadata": {},
   "outputs": [],
   "source": [
    "# Since the data should be in different form for the feedforward network and the operator recurrent network,\n",
    "# generate the data separately for both.\n",
    "# see the code file for data generation and change accordingly\n",
    "\n",
    "#save_data(*generate_data(60000), \"simple_inversion_train_data.npz\")\n",
    "#save_data(*generate_data(10000), \"simple_inversion_test_data.npz\")\n",
    "\n",
    "#save_data(*generate_data(60000), \"for_opnet_simple_inversion_train_data.npz\")\n",
    "#save_data(*generate_data(10000), \"for_opnet_simple_inversion_test_data.npz\")"
   ]
  },
  {
   "cell_type": "code",
   "execution_count": 5,
   "id": "6a621804-4dac-42e0-9418-b04b0dfb0ade",
   "metadata": {},
   "outputs": [],
   "source": [
    "# Load the training data\n",
    "\n",
    "# This for feedforward network\n",
    "train_loader = torch.utils.data.DataLoader(\n",
    "    load_data(\"simple_inversion_train_data.npz\"),\n",
    "    batch_size=64)\n",
    "\n",
    "# This for operator network\n",
    "train_loader_op = torch.utils.data.DataLoader(\n",
    "    load_data(\"for_opnet_simple_inversion_train_data.npz\"),\n",
    "    \n",
    "    batch_size=64)"
   ]
  },
  {
   "cell_type": "markdown",
   "id": "b83b49c4-de24-4396-a589-75a059012660",
   "metadata": {},
   "source": [
    "### Train the data with feedforward network"
   ]
  },
  {
   "cell_type": "code",
   "execution_count": 7,
   "id": "80c4d6b0-b3eb-4ceb-b17c-769359f7fcd9",
   "metadata": {},
   "outputs": [
    {
     "name": "stdout",
     "output_type": "stream",
     "text": [
      "Shape of X [N, C, H, W]: torch.Size([64, 4])\n",
      "Shape of y: torch.Size([64, 2, 1]) torch.float32\n",
      "Shape of X [N, C, H, W]: torch.Size([64, 2, 2])\n",
      "Shape of y: torch.Size([64, 2, 1]) torch.float32\n"
     ]
    }
   ],
   "source": [
    "# Check dimensions\n",
    "for X, y in train_loader:\n",
    "    print(f\"Shape of X [N, C, H, W]: {X.shape}\")\n",
    "    print(f\"Shape of y: {y.shape} {y.dtype}\") \n",
    "    break\n",
    "\n",
    "for X, y in train_loader_op:\n",
    "    print(f\"Shape of X [N, C, H, W]: {X.shape}\")\n",
    "    print(f\"Shape of y: {y.shape} {y.dtype}\") \n",
    "    break"
   ]
  },
  {
   "cell_type": "markdown",
   "id": "92311b2c-7bae-4a27-ae30-abc6f6c069d9",
   "metadata": {},
   "source": [
    "For the comparison of the networks check that the amount of learnable parameters is about the same."
   ]
  },
  {
   "cell_type": "code",
   "execution_count": 6,
   "id": "5f6aceab-b5b8-4b05-a86f-fc9540bc81ae",
   "metadata": {},
   "outputs": [
    {
     "name": "stdout",
     "output_type": "stream",
     "text": [
      "Total Trainable Params: 107\n",
      "Total Trainable Params: 110\n"
     ]
    }
   ],
   "source": [
    "#From: https://stackoverflow.com/questions/49201236/check-the-total-number-of-parameters-in-a-pytorch-model\n",
    "\n",
    "# check the amount of parameters\n",
    "def count_parameters(model):\n",
    "   \n",
    "    total_params = 0\n",
    "    for name, parameter in model.named_parameters():\n",
    "        if not parameter.requires_grad: continue\n",
    "        params = parameter.numel()\n",
    "        total_params+=params\n",
    "    print(f\"Total Trainable Params: {total_params}\")\n",
    "    #return total_params\n",
    "    \n",
    "count_parameters(model)\n",
    "count_parameters(model_op)"
   ]
  },
  {
   "cell_type": "markdown",
   "id": "c113e40e-f3a5-4880-8eea-28817ef776ad",
   "metadata": {},
   "source": [
    "Train the feedforward network."
   ]
  },
  {
   "cell_type": "code",
   "execution_count": 6,
   "id": "474612f2-c3d5-4049-8969-2f4f42a740b8",
   "metadata": {},
   "outputs": [
    {
     "name": "stdout",
     "output_type": "stream",
     "text": [
      "Epoch 1\n",
      "-------------------------------\n",
      " epoch_loss: 0.03289933071484168\n",
      "Epoch 2\n",
      "-------------------------------\n",
      " epoch_loss: 0.0031722747868547837\n",
      "Epoch 3\n",
      "-------------------------------\n",
      " epoch_loss: 0.001985991760902107\n",
      "Epoch 4\n",
      "-------------------------------\n",
      " epoch_loss: 0.0014685029271369178\n",
      "Epoch 5\n",
      "-------------------------------\n",
      " epoch_loss: 0.0012279949333518744\n",
      "Total time: 0:00:04.103335\n"
     ]
    }
   ],
   "source": [
    "losses = []\n",
    "start = time.time()\n",
    "# Loop over the training data\n",
    "for epoch in range(5):\n",
    "    \n",
    "    print(f\"Epoch {epoch+1}\\n-------------------------------\")\n",
    "    running_loss = 0.0\n",
    "    for batch, (X, y) in enumerate(train_loader):\n",
    "        \n",
    "    # Compute prediction error\n",
    "    \n",
    "        pred = model(X)   \n",
    "        a2 = pred.unsqueeze(2)\n",
    "        loss = loss_fn(a2, y)\n",
    "        \n",
    "        running_loss += loss.item() * X.size(0) # track losses to compute loss per epoch\n",
    "        \n",
    "        # Backpropagation\n",
    "        optimizer.zero_grad()\n",
    "        loss.backward()\n",
    "        optimizer.step()\n",
    "        \n",
    "\n",
    "        # Print statistics\n",
    "        #if batch % 100 == 0:\n",
    "          #  n, N = (batch + 1) * len(X), len(train_loader.dataset)\n",
    "          #  print(f\"loss: {loss.item():>7f}  [{n:>5d}/{N:>5d}]\")\n",
    "    #print(f\"loss: {loss.item() /= len(train_loader):>7f} \")\n",
    "    \n",
    "    epoch_loss = running_loss / len(train_loader.dataset)\n",
    "    print(f\" epoch_loss: {epoch_loss}\") # print loss at the end of an epoch\n",
    "    losses.append(epoch_loss)\n",
    "    \n",
    "    \n",
    "torch.save(model.state_dict(), PATH)\n",
    "\n",
    "end = time.time()\n",
    "total_time = timedelta(seconds = end-start)\n",
    "print(f'Total time: {total_time}')"
   ]
  },
  {
   "cell_type": "code",
   "execution_count": 7,
   "id": "c3800221-568d-4f19-be61-b1172d4d211e",
   "metadata": {},
   "outputs": [],
   "source": [
    "# Save the epoch losses of this iteration for plotting\n",
    "#path= './epochlosses_ffn_400epochs_1hiddenlayer15_nodes_set3.pth'\n",
    "#torch.save(losses,path)"
   ]
  },
  {
   "cell_type": "code",
   "execution_count": 5,
   "id": "7e354aef-2a77-431d-9677-0d71b52a0a13",
   "metadata": {},
   "outputs": [],
   "source": [
    "# load the epoch losses of previous trainings of the feedforward network\n",
    "a = torch.load('epochlosses_ffn_300epochs_1hiddenlayer160_nodes_set1.pth')\n",
    "b = torch.load('epochlosses_ffn_300epochs_1hiddenlayer160_nodes_set2.pth')\n",
    "c = torch.load('epochlosses_ffn_300epochs_1hiddenlayer160_nodes_set3.pth')\n",
    "\n",
    "# plot epoch losses from multiple iterations\n",
    "plt.semilogy(a, 'r')\n",
    "plt.semilogy(b, 'b')\n",
    "plt.semilogy(c, 'g')\n",
    "\n",
    "\n",
    "plt.semilogy(losses)\n",
    "plt.xlabel('Epochs')\n",
    "plt.ylabel('Mean Squared Error')\n",
    "plt.xlim([0, 299])\n",
    "\n",
    "plt.title(f'Matrix Inversion Training Data Error')\n",
    "\n",
    "# Save the plot\n",
    "#plt.savefig('mse_per_epochs_ffn_matrix_inv_300epochs_multiple_iter.jpg')"
   ]
  },
  {
   "cell_type": "markdown",
   "id": "25f7657f-5b9b-4275-9b6c-a864f007d03d",
   "metadata": {},
   "source": [
    "### Train the data with operator network"
   ]
  },
  {
   "cell_type": "code",
   "execution_count": 7,
   "id": "8d6f2730-b755-4bfc-9fac-f235476a58a0",
   "metadata": {},
   "outputs": [
    {
     "name": "stdout",
     "output_type": "stream",
     "text": [
      "Epoch 1\n",
      "-------------------------------\n",
      " epoch_loss: 0.025177314209689695\n",
      "Epoch 2\n",
      "-------------------------------\n",
      " epoch_loss: 0.005632366524885098\n",
      "Epoch 3\n",
      "-------------------------------\n",
      " epoch_loss: 0.004406026008290549\n",
      "Epoch 4\n",
      "-------------------------------\n",
      " epoch_loss: 0.0035401534913728633\n",
      "Epoch 5\n",
      "-------------------------------\n",
      " epoch_loss: 0.0028353937703495223\n",
      "Total time: 0:00:20.053453\n"
     ]
    }
   ],
   "source": [
    "losses_opnet = []\n",
    "start = time.time()\n",
    "# Loop over the training data\n",
    "for epoch in range(5):\n",
    "    print(f\"Epoch {epoch+1}\\n-------------------------------\")\n",
    "    running_loss_op = 0.0\n",
    "    for batch, (X_o, y_o) in enumerate(train_loader_op):\n",
    "        \n",
    "    # Compute prediction error\n",
    "    \n",
    "        pred_op = model_op(X_o)   \n",
    "        loss_op = loss_fn_op(pred_op, y_o)\n",
    "             \n",
    "        running_loss_op += loss_op.item() * X_o.size(0) # track the losses to count loss per epoch\n",
    "        \n",
    "        # Backpropagation\n",
    "        optimizer_op.zero_grad()\n",
    "        loss_op.backward()\n",
    "        optimizer_op.step()\n",
    "\n",
    "        # Print statistics\n",
    "        #if batch % 100 == 0:\n",
    "         #   n, N = (batch + 1) * len(X_o), len(train_loader_op.dataset)\n",
    "          #  print(f\"loss: {loss_op.item():>7f}  [{n:>5d}/{N:>5d}]\")\n",
    "   # print(f\"loss:{loss_op.item() /= len(train_loader_op):>7f}\")\n",
    "\n",
    "    epoch_loss_op = running_loss_op / len(train_loader_op.dataset)\n",
    "    print(f\" epoch_loss: {epoch_loss_op}\") # print loss at the end of an epoch\n",
    "    losses_opnet.append(epoch_loss_op)\n",
    "    \n",
    "    \n",
    "torch.save(model_op.state_dict(), PATH_OP)\n",
    "end = time.time()\n",
    "total_time = timedelta(seconds = end-start)\n",
    "print(f'Total time: {total_time}')"
   ]
  },
  {
   "cell_type": "code",
   "execution_count": 9,
   "id": "6bfda4eb-553b-44aa-b6f3-fdc879130579",
   "metadata": {},
   "outputs": [],
   "source": [
    "# Save the epoch losses of this run for plotting\n",
    "#path = './epoch_losses_opnet_11_layers_400epochs_set1_trainingparams3.pth'\n",
    "#torch.save(losses_opnet,path)"
   ]
  },
  {
   "cell_type": "markdown",
   "id": "23b8177d-0f7f-47c0-af4a-804ae6df5a2e",
   "metadata": {},
   "source": [
    "### Comparison of the Networks"
   ]
  },
  {
   "cell_type": "markdown",
   "id": "ac42f0e8-9c98-4819-987b-6b6ac021ca45",
   "metadata": {},
   "source": [
    "Plot the losses of the feedforward network and operator recurrent network."
   ]
  },
  {
   "cell_type": "code",
   "execution_count": 6,
   "id": "a618270a-916e-44c0-93e6-fde5bb0645dc",
   "metadata": {},
   "outputs": [],
   "source": [
    "# load the example epoch loss of previous trainings of the feedforward network\n",
    "a = torch.load('epochlosses_ffn_400epochs_1hiddenlayer15_nodes_set1.pth')\n",
    "b = torch.load('epochlosses_ffn_400epochs_1hiddenlayer15_nodes_set1_trainingparams2.pth')\n",
    "c = torch.load('epochlosses_ffn_400epochs_1hiddenlayer15_nodes_set1_trainingparams3.pth')\n",
    "\n",
    "# load the example epoch loss of previous trainings of the operator network\n",
    "e = torch.load('epoch_losses_opnet_11_layers_400epochs_set1.pth')\n",
    "f = torch.load('epoch_losses_opnet_11_layers_400epochs_set1_trainingparams2.pth')\n",
    "g = torch.load('epoch_losses_opnet_11_layers_400epochs_set1_trainingparams3.pth')\n",
    "\n",
    "\n",
    "# plot the epoch losses\n",
    "plt.semilogy(a, 'r', label = 'Feedforward Network')\n",
    "plt.semilogy(b, 'r')\n",
    "plt.semilogy(c, 'r')\n",
    "\n",
    "plt.semilogy(e, 'b', label = 'Operator Network')\n",
    "plt.semilogy(f, 'b')\n",
    "plt.semilogy(g, 'b')\n",
    "\n",
    "plt.xlabel('Epochs')\n",
    "plt.ylabel('Mean Squared Error')\n",
    "plt.xlim([0, 399])\n",
    "plt.legend()\n",
    "plt.title(f'Comparison of Matrix Inversion Training Data Error')\n",
    "\n",
    "# Save the plot\n",
    "#plt.savefig('mse_per_epochs_comparison_mat_inv_400epochs_multiple_iterations2.jpg')"
   ]
  },
  {
   "cell_type": "markdown",
   "id": "19b745e5-0f94-4adc-997d-a3f3e218e6f9",
   "metadata": {},
   "source": [
    "### Test the data"
   ]
  },
  {
   "cell_type": "markdown",
   "id": "623fbb5b-c23f-45b7-adc3-068026d2f6ea",
   "metadata": {},
   "source": [
    "If training of the network is already done, load the trained parameters."
   ]
  },
  {
   "cell_type": "code",
   "execution_count": 6,
   "id": "f752ffe4-828c-4fcb-a1c5-bc2ed2e83b9d",
   "metadata": {},
   "outputs": [
    {
     "data": {
      "text/plain": [
       "<All keys matched successfully>"
      ]
     },
     "execution_count": 6,
     "metadata": {},
     "output_type": "execute_result"
    }
   ],
   "source": [
    "## Load trained variables\n",
    "model.load_state_dict(torch.load(PATH))\n",
    "\n",
    "model_op.load_state_dict(torch.load(PATH_OP))"
   ]
  },
  {
   "cell_type": "code",
   "execution_count": 8,
   "id": "263a4d0a-1b67-43c1-9c96-908ce861d45f",
   "metadata": {},
   "outputs": [],
   "source": [
    "# Load the testing data\n",
    "\n",
    "# For shallow network\n",
    "test_loader = torch.utils.data.DataLoader(\n",
    "    load_data(\"simple_inversion_test_data.npz\"),\n",
    "    batch_size=64)\n",
    "\n",
    "# For operator network\n",
    "test_loader_op = torch.utils.data.DataLoader(\n",
    "    load_data(\"for_opnet_simple_inversion_test_data.npz\"),\n",
    "    batch_size=64)\n"
   ]
  },
  {
   "cell_type": "markdown",
   "id": "352e56b7-d1b3-4c58-beef-085c1deb0f28",
   "metadata": {},
   "source": [
    "Calculate samples for comparison."
   ]
  },
  {
   "cell_type": "markdown",
   "id": "b6a2abdb-6212-4732-9564-1f0e293c3a69",
   "metadata": {},
   "source": [
    "### Feedforward Neural Network"
   ]
  },
  {
   "cell_type": "code",
   "execution_count": 8,
   "id": "243f4233-03c8-47ce-b0f0-d0596ff4ed54",
   "metadata": {},
   "outputs": [
    {
     "name": "stdout",
     "output_type": "stream",
     "text": [
      "True: \n",
      "tensor([[[1.1193],\n",
      "         [0.5475]],\n",
      "\n",
      "        [[1.0590],\n",
      "         [0.9130]]])\n",
      "Prediction: \n",
      "tensor([[[1.1320],\n",
      "         [0.5198]],\n",
      "\n",
      "        [[1.0367],\n",
      "         [0.9221]]])\n"
     ]
    }
   ],
   "source": [
    "dataiter = iter(test_loader)\n",
    "X, y = dataiter.next()\n",
    "with torch.no_grad():\n",
    "    pred = model(X).unsqueeze(2) \n",
    "print(\"True: \")\n",
    "print(y[:2])\n",
    "print(\"Prediction: \")\n",
    "print(pred[:2])"
   ]
  },
  {
   "cell_type": "markdown",
   "id": "800fdab4-8dd4-47a1-9276-2d9b833e13c8",
   "metadata": {},
   "source": [
    "Calculate the average loss."
   ]
  },
  {
   "cell_type": "code",
   "execution_count": 9,
   "id": "df0abc2b-1d2f-456e-9097-3e69c04b3512",
   "metadata": {},
   "outputs": [
    {
     "name": "stdout",
     "output_type": "stream",
     "text": [
      "Avg loss: 0.001007 \n",
      "\n"
     ]
    }
   ],
   "source": [
    "num_batches = len(test_loader)\n",
    "test_loss = 0\n",
    "with torch.no_grad():\n",
    "    for X, y in test_loader:\n",
    "        #pred = model(X.unsqueeze(1))\n",
    "        #test_loss += loss_fn(pred.squeeze(1), y).item() # This for conv net\n",
    "        pred = model(X)\n",
    "        test_loss += loss_fn(pred.unsqueeze(2),y).item()\n",
    "test_loss /= num_batches\n",
    "print(f\"Avg loss: {test_loss:>8f} \\n\")"
   ]
  },
  {
   "cell_type": "markdown",
   "id": "a7ebc4e6-7099-47ac-a1e5-f9dbc09e5fce",
   "metadata": {},
   "source": [
    "### Operator Network"
   ]
  },
  {
   "cell_type": "code",
   "execution_count": 12,
   "id": "5125004e-1846-42cd-849e-ac2b01e5952b",
   "metadata": {
    "tags": []
   },
   "outputs": [
    {
     "name": "stdout",
     "output_type": "stream",
     "text": [
      "True: \n",
      "tensor([[[0.9665],\n",
      "         [0.8736]],\n",
      "\n",
      "        [[1.0381],\n",
      "         [0.9456]]])\n",
      "Prediction: \n",
      "tensor([[[0.9652],\n",
      "         [0.8733]],\n",
      "\n",
      "        [[1.0372],\n",
      "         [0.9448]]])\n"
     ]
    }
   ],
   "source": [
    "dataiter_op = iter(test_loader_op)\n",
    "X_o, y_o = dataiter_op.next()\n",
    "with torch.no_grad():\n",
    "    pred_op = model_op(X_o)\n",
    "   \n",
    "print(\"True: \")\n",
    "print(y_o[:2])\n",
    "print(\"Prediction: \")\n",
    "print(pred_op[:2])"
   ]
  },
  {
   "cell_type": "markdown",
   "id": "fe20f21c-e014-4551-8cc0-3e97d01cd028",
   "metadata": {},
   "source": [
    "Calculate the average loss"
   ]
  },
  {
   "cell_type": "code",
   "execution_count": 13,
   "id": "86174d3a-829c-491e-b180-66c943b69859",
   "metadata": {},
   "outputs": [
    {
     "name": "stdout",
     "output_type": "stream",
     "text": [
      "Avg loss: 0.000164 \n",
      "\n"
     ]
    }
   ],
   "source": [
    "num_batches = len(test_loader_op)\n",
    "test_loss_op = 0\n",
    "with torch.no_grad():\n",
    "    for X_o, y_o in test_loader_op:\n",
    "        pred_op = model_op(X_o)\n",
    "        test_loss_op += loss_fn_op(pred_op,y_o).item() \n",
    "test_loss_op /= num_batches\n",
    "print(f\"Avg loss: {test_loss_op:>8f} \\n\")"
   ]
  }
 ],
 "metadata": {
  "kernelspec": {
   "display_name": "Python 3 (ipykernel)",
   "language": "python",
   "name": "python3"
  },
  "language_info": {
   "codemirror_mode": {
    "name": "ipython",
    "version": 3
   },
   "file_extension": ".py",
   "mimetype": "text/x-python",
   "name": "python",
   "nbconvert_exporter": "python",
   "pygments_lexer": "ipython3",
   "version": "3.10.6"
  }
 },
 "nbformat": 4,
 "nbformat_minor": 5
}
