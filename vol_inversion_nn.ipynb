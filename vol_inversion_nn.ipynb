{
 "cells": [
  {
   "cell_type": "markdown",
   "id": "b5642792-f52d-45a4-add6-cc50ab333bd7",
   "metadata": {},
   "source": [
    "# Volume Inversion Using Feedforward Neural Network"
   ]
  },
  {
   "cell_type": "code",
   "execution_count": 1,
   "id": "e653298e-0a9a-4b1a-bcc4-aa64500e380b",
   "metadata": {},
   "outputs": [],
   "source": [
    "import torch\n",
    "import numpy as np\n",
    "import matplotlib.pyplot as plt\n",
    "import time\n",
    "from datetime import timedelta"
   ]
  },
  {
   "cell_type": "markdown",
   "id": "525c3628-54d2-4e19-b6f7-612e9267fc32",
   "metadata": {},
   "source": [
    "### Initialize\n",
    "Import the neural network, and the training data from a separate file.\n",
    "\n",
    "For the data generation for the feedforward network use the file 'vol_inv_data.py' and for the operator recurrent network the file 'for_opnet_vol_inv_data.py'."
   ]
  },
  {
   "cell_type": "code",
   "execution_count": 5,
   "id": "319aeaf1-6a8b-4c61-a105-1d5ffedb30be",
   "metadata": {},
   "outputs": [],
   "source": [
    "#import simple_nn\n",
    "import opnet\n",
    "import simple_nn\n",
    "\n",
    "from vol_inv_data import generate_data, save_data, load_data\n",
    "PATH = './volume_inversion_test.pth'\n",
    "#'./volume_inversion_400epochs_4982nodes_lr1e1_1.pth'   # define the path used to save trained parameters\n",
    "\n",
    "from for_opnet_vol_inv_data import generate_data_op, save_data_op, load_data_op\n",
    "PATH_OP = './volume_inversion_opnet_test.pth'\n",
    "#'./volume_inversion_400epochs_GC_1_lr1e2_3.pth'"
   ]
  },
  {
   "cell_type": "code",
   "execution_count": 3,
   "id": "4534ba39-c0f5-4b95-850d-91b1b5450f6f",
   "metadata": {},
   "outputs": [],
   "source": [
    "# Define the paths \n",
    "# To find best option to deal with the exploding error of opnet\n",
    "PATH_GC ='./opnet_vol_inv_GC_1_relu_true_10_layers_lr1e2.pth' # gradient clipping\n",
    "#'./opnet_vol_inv_GC_2_relu_true_10_layers_lr1e2.pth'\n",
    "#'./opnet_vol_inv_GC_2_relu_true_10_layers_lr1e1.pth'\n",
    "#'./opnet_vol_inv_GC_1_relu_true_10_layers_lr1e1.pth'\n",
    "#'./opnet_vol_inv_GC_01_relu_true_10_layers_lr1e1.pth'\n",
    "# './opnet_vol_inv_GC_001_relu_true_10_layers_lr1e1.pth'\n",
    "#'./opnet_vol_inv_GC_001_relu_true_10_layers.pth' \n",
    "#'./opnet_vol_inv_GC_0_1_relu_true_10_layers.pth'\n",
    "# './opnet_vol_inv_GC_1_relu_true_10_layers.pth'\n",
    "\n",
    "PATH_REG = './opnet_volume_inversion_REG_1e_min7_relu_true.pth' # L2-regularization"
   ]
  },
  {
   "cell_type": "markdown",
   "id": "a52865e2-d04e-48bc-8dc3-5413c8b79fbe",
   "metadata": {},
   "source": [
    "Define the optimizer, model and loss function."
   ]
  },
  {
   "cell_type": "markdown",
   "id": "8524ff13-e021-4fde-b193-553b783a7995",
   "metadata": {},
   "source": [
    "Intialize parameters for the feedforward network."
   ]
  },
  {
   "cell_type": "code",
   "execution_count": 7,
   "id": "054ff99a-06a0-4cb8-8ced-db5eee1f72aa",
   "metadata": {},
   "outputs": [],
   "source": [
    "dim = 126 # the size of Lambda_h\n",
    "num_nodes = 4982 # the number of nodes in the 1st layer output/ 2nd layer input\n",
    "model = simple_nn.NeuralNetwork(dim, num_nodes)\n",
    "loss_fn = torch.nn.MSELoss()\n",
    "optimizer = torch.optim.SGD(model.parameters(), lr=1e-1)"
   ]
  },
  {
   "cell_type": "markdown",
   "id": "5039f235-c1c7-46d2-a1ec-15fe9b7447e7",
   "metadata": {},
   "source": [
    "Initialize parameters for the operator network."
   ]
  },
  {
   "cell_type": "code",
   "execution_count": 8,
   "id": "6b2620df-4a06-4943-bcb1-9c59278dca52",
   "metadata": {},
   "outputs": [],
   "source": [
    "dim = 126 # this needs be the size of Lambda_h\n",
    "num_layers = 10\n",
    "model_op = opnet.OperatorNet(dim, num_layers, scalar_output=True, useReLU = True)\n",
    "loss_fn_op = torch.nn.MSELoss()\n",
    "optimizer_op = torch.optim.SGD(model_op.parameters(), lr=1e-2)\n",
    "#optimizer_op = torch.optim.SGD(model_op.parameters(),lr=1e-4, weight_decay = 1e-10) # Optimizer with L2-penalty"
   ]
  },
  {
   "cell_type": "markdown",
   "id": "613e9af3-6b40-487d-b06d-dbbf6510b802",
   "metadata": {},
   "source": [
    "### Generate the data"
   ]
  },
  {
   "cell_type": "code",
   "execution_count": 5,
   "id": "f73a230d-dab4-42a1-837d-19d8f6eb3bdb",
   "metadata": {},
   "outputs": [],
   "source": [
    "# Generate data separately for both the feedforward network and operator recurrent network\n",
    "\n",
    "#save_data(*generate_data(6000), \"volume_inversion_train_data2.npz\")\n",
    "#save_data(*generate_data(1000), \"volume_inversion_test_data2.npz\")\n",
    "\n",
    "#save_data_op(*generate_data_op(6000), \"for_opnet_volume_inversion_train_data2.npz\")\n",
    "#save_data_op(*generate_data_op(1000), \"for_opnet_volume_inversion_test_data2.npz\")"
   ]
  },
  {
   "cell_type": "markdown",
   "id": "51845e97-e979-4e14-a0cc-48db91b3007e",
   "metadata": {},
   "source": [
    "### Train the data"
   ]
  },
  {
   "cell_type": "code",
   "execution_count": 9,
   "id": "9947ee2c-0fa5-4ce9-b4d8-13ca698bcc89",
   "metadata": {},
   "outputs": [],
   "source": [
    "# Load the training data\n",
    "train_loader = torch.utils.data.DataLoader(\n",
    "    load_data(\"volume_inversion_train_data2.npz\"), \n",
    "    batch_size=64)\n",
    "\n",
    "# This for operator network\n",
    "train_loader_op = torch.utils.data.DataLoader(\n",
    "    load_data_op(\"for_opnet_volume_inversion_train_data2.npz\"), \n",
    "    batch_size=64)"
   ]
  },
  {
   "cell_type": "code",
   "execution_count": 6,
   "id": "0e009a3c-75fb-4f5f-822b-691a57b4187f",
   "metadata": {},
   "outputs": [
    {
     "name": "stdout",
     "output_type": "stream",
     "text": [
      "Total Trainable Params: 637697\n",
      "Total Trainable Params: 637686\n"
     ]
    },
    {
     "data": {
      "text/plain": [
       "637686"
      ]
     },
     "execution_count": 6,
     "metadata": {},
     "output_type": "execute_result"
    }
   ],
   "source": [
    "#From: https://stackoverflow.com/questions/49201236/check-the-total-number-of-parameters-in-a-pytorch-model\n",
    "\n",
    "# check the amount of parameters\n",
    "def count_parameters(model):\n",
    "   \n",
    "    total_params = 0\n",
    "    for name, parameter in model.named_parameters():\n",
    "        if not parameter.requires_grad: continue\n",
    "        params = parameter.numel()\n",
    "        total_params+=params\n",
    "    print(f\"Total Trainable Params: {total_params}\")\n",
    "    return total_params\n",
    "    \n",
    "count_parameters(model)\n",
    "count_parameters(model_op)"
   ]
  },
  {
   "cell_type": "markdown",
   "id": "63644ad1-4d98-4f83-ba1b-9ed53693f415",
   "metadata": {},
   "source": [
    "The feedforward neural network"
   ]
  },
  {
   "cell_type": "code",
   "execution_count": 10,
   "id": "c4ce146b-cc32-4585-861a-1336de5dcd84",
   "metadata": {},
   "outputs": [
    {
     "name": "stdout",
     "output_type": "stream",
     "text": [
      "Epoch 1\n",
      "-------------------------------\n",
      "loss: 0.382516  [   64/ 6000]\n",
      " epoch_loss: 1.205005401990066\n",
      "Epoch 2\n",
      "-------------------------------\n",
      "loss: 0.004057  [   64/ 6000]\n",
      " epoch_loss: 0.002926739138861497\n",
      "Epoch 3\n",
      "-------------------------------\n",
      "loss: 0.002318  [   64/ 6000]\n",
      " epoch_loss: 0.0020645225482682386\n",
      "Epoch 4\n",
      "-------------------------------\n",
      "loss: 0.001665  [   64/ 6000]\n",
      " epoch_loss: 0.0016771368604774277\n",
      "Epoch 5\n",
      "-------------------------------\n",
      "loss: 0.001348  [   64/ 6000]\n",
      " epoch_loss: 0.0014431791647026937\n",
      "Total time: 0:00:06.063421\n"
     ]
    }
   ],
   "source": [
    "losses = []\n",
    "start = time.time()\n",
    "\n",
    "# Loop over the training data\n",
    "for epoch in range(5): \n",
    "    print(f\"Epoch {epoch+1}\\n-------------------------------\")\n",
    "    running_loss = 0.0\n",
    "    for batch, (X, y) in enumerate(train_loader):\n",
    "    # Compute prediction error\n",
    "        pred = model(X)\n",
    "        pred2 = pred.squeeze(1)\n",
    "        loss = loss_fn(pred2, y)\n",
    "        \n",
    "        running_loss += loss.item() * X.size(0)\n",
    "       \n",
    "        # Backpropagation\n",
    "        optimizer.zero_grad()\n",
    "        loss.backward()\n",
    "        \n",
    "        optimizer.step()\n",
    "        \n",
    "        # Print statistics\n",
    "        if batch % 100 == 0:\n",
    "            n, N = (batch + 1) * len(X), len(train_loader.dataset)\n",
    "            print(f\"loss: {loss.item():>7f}  [{n:>5d}/{N:>5d}]\")\n",
    "\n",
    "    epoch_loss = running_loss / len(train_loader.dataset)\n",
    "    print(f\" epoch_loss: {epoch_loss}\")\n",
    "    losses.append(epoch_loss)\n",
    "    \n",
    "torch.save(model.state_dict(), PATH)\n",
    "\n",
    "end = time.time()\n",
    "total_time = timedelta(seconds = end-start);\n",
    "print(f'Total time: {total_time}')"
   ]
  },
  {
   "cell_type": "code",
   "execution_count": 6,
   "id": "030ed387-16fe-4d55-8760-578987a6bd7c",
   "metadata": {},
   "outputs": [],
   "source": [
    "# Save the epoch losses of one run for plotting\n",
    "#path= './_volum_inv_epochlosses_ffn_model_comp_6000pcs_400epochs_4982nodes_lr1e1_set3.pth'\n",
    "#torch.save(losses,path)"
   ]
  },
  {
   "cell_type": "markdown",
   "id": "279e4af2-316a-4283-8c18-93f1d37cd666",
   "metadata": {},
   "source": [
    "Plot epoch losses of a few different training times"
   ]
  },
  {
   "cell_type": "code",
   "execution_count": 13,
   "id": "2d8ff979-a39d-4182-8e8a-45996cd1a608",
   "metadata": {},
   "outputs": [],
   "source": [
    "# load the data\n",
    "#a = torch.load('_volum_inv_epochlosses_ffn_model1_6000pcs_300epochs_set1.pth')\n",
    "#b = torch.load('_volum_inv_epochlosses_ffn_model1_6000pcs_300epochs_set2.pth')\n",
    "#c = torch.load('_volum_inv_epochlosses_ffn_model1_6000pcs_300epochs_set3.pth')\n",
    "\n",
    "# plot epoch losses from multiple runs\n",
    "#plt.semilogy(a, 'r')\n",
    "#plt.semilogy(b, 'b')\n",
    "#plt.semilogy(c, 'g')\n",
    "\n",
    "#plt.xlabel('Epochs')\n",
    "#plt.ylabel('Mean Squared Error')\n",
    "#plt.xlim([0, 299])\n",
    "\n",
    "#plt.legend(['Feedforward Network'])\n",
    "#plt.title(f'Volume Inversion Traning Data Error')\n",
    "\n",
    "# Save the plot\n",
    "#plt.savefig('mse_per_epochs_ffn_volume_inv_300_epochs_multiple_training_sets_6000pcs_model1.jpg')"
   ]
  },
  {
   "cell_type": "markdown",
   "id": "518d06df-ad53-4a97-893b-2316956b8f9d",
   "metadata": {},
   "source": [
    "The operator recurrent network"
   ]
  },
  {
   "cell_type": "code",
   "execution_count": 14,
   "id": "dbeb2182-a78e-4d82-a1f4-834861c9ce93",
   "metadata": {},
   "outputs": [
    {
     "name": "stdout",
     "output_type": "stream",
     "text": [
      "Epoch 1\n",
      "-------------------------------\n",
      "loss: 2333718.500000  [   64/ 6000]\n",
      " epoch_loss: 70568.78519816081\n",
      "Epoch 2\n",
      "-------------------------------\n",
      "loss: 4747.781738  [   64/ 6000]\n",
      " epoch_loss: 508.6336196867625\n",
      "Epoch 3\n",
      "-------------------------------\n",
      "loss: 4.110128  [   64/ 6000]\n",
      " epoch_loss: 0.4278785620033741\n",
      "Epoch 4\n",
      "-------------------------------\n",
      "loss: 0.099514  [   64/ 6000]\n",
      " epoch_loss: 0.029549583646158378\n",
      "Epoch 5\n",
      "-------------------------------\n",
      "loss: 0.019805  [   64/ 6000]\n",
      " epoch_loss: 0.012892704340318839\n",
      "Total time: 0:00:10.896881\n"
     ]
    }
   ],
   "source": [
    "losses_opnet = []\n",
    "start = time.time()\n",
    "# Loop over the training data\n",
    "for epoch in range(5):\n",
    "    print(f\"Epoch {epoch+1}\\n-------------------------------\")\n",
    "    running_loss_op = 0.0\n",
    "    for batch, (X_o, y_o) in enumerate(train_loader_op):\n",
    "    # Compute prediction error\n",
    "    \n",
    "        pred_op = model_op(X_o)   \n",
    "        loss_op = loss_fn_op(pred_op, y_o)\n",
    "             \n",
    "        running_loss_op += loss_op.item() * X_o.size(0)\n",
    "        \n",
    "        # Backpropagation\n",
    "        optimizer_op.zero_grad()\n",
    "        loss_op.backward()\n",
    "        \n",
    "        # gradient clipping to prevent gradient explosion\n",
    "        torch.nn.utils.clip_grad_norm_(model_op.parameters(), 1)\n",
    "        \n",
    "        optimizer_op.step()\n",
    "        \n",
    "        # Print statistics\n",
    "        if batch % 100 == 0:\n",
    "            n, N = (batch + 1) * len(X_o), len(train_loader_op.dataset)\n",
    "            print(f\"loss: {loss_op.item():>7f}  [{n:>5d}/{N:>5d}]\")\n",
    "    #print(f\"loss:{loss_op.item() /= len(train_loader_op):>7f}\")\n",
    "    epoch_loss_op = running_loss_op / len(train_loader_op.dataset)\n",
    "    print(f\" epoch_loss: {epoch_loss_op}\")\n",
    "    losses_opnet.append(epoch_loss_op)\n",
    "    \n",
    "    \n",
    "torch.save(model_op.state_dict(), PATH_OP)\n",
    "end = time.time()\n",
    "total_time = timedelta(seconds=end-start)\n",
    "print(f'Total time: {total_time}')"
   ]
  },
  {
   "cell_type": "code",
   "execution_count": 6,
   "id": "c7151d0d-e27c-4f79-99fa-4d9e1014bd44",
   "metadata": {},
   "outputs": [],
   "source": [
    "# Save the epoch losses of one run for plotting\n",
    "#path= './vol_inv_epochlosses_op_6000pcs_400epochs_clipped_grad_1_10_layers_lr1e2_set3.pth'\n",
    "#torch.save(losses_opnet,path)"
   ]
  },
  {
   "cell_type": "markdown",
   "id": "494ea16d-5bec-423e-8e63-9ea6e2789b46",
   "metadata": {},
   "source": [
    "### Plot - comparison"
   ]
  },
  {
   "cell_type": "markdown",
   "id": "09d9cb7b-8a93-43f6-9893-1fcdd167e64d",
   "metadata": {},
   "source": [
    "Plot the epoch losses of both networks for comparison."
   ]
  },
  {
   "cell_type": "code",
   "execution_count": 15,
   "id": "8834ac11-6373-4b39-8b9d-ad540e6c58ad",
   "metadata": {},
   "outputs": [],
   "source": [
    "#a =  torch.load('_volum_inv_epochlosses_ffn_model_comp_6000pcs_400epochs_4982nodes_lr1e1_set1.pth')\n",
    "#b =  torch.load('_volum_inv_epochlosses_ffn_model_comp_6000pcs_400epochs_4982nodes_lr1e1_set2.pth')\n",
    "#c =  torch.load('_volum_inv_epochlosses_ffn_model_comp_6000pcs_400epochs_4982nodes_lr1e1_set3.pth')\n",
    "#d =  torch.load('vol_inv_epochlosses_op_6000pcs_400epochs_clipped_grad_1_10_layers_lr1e2_set1.pth')\n",
    "#e =  torch.load('vol_inv_epochlosses_op_6000pcs_400epochs_clipped_grad_1_10_layers_lr1e2_set2.pth')\n",
    "#f =  torch.load('vol_inv_epochlosses_op_6000pcs_400epochs_clipped_grad_1_10_layers_lr1e2_set3.pth')\n",
    "\n",
    "#plt.semilogy(a, 'r', label= 'Feedforward Network, lr = 1e-1')\n",
    "#plt.semilogy(b, 'r')\n",
    "#plt.semilogy(c, 'r')\n",
    "#plt.semilogy(d, 'b', label = 'Operator Network, lr = 1e-2')\n",
    "#plt.semilogy(e, 'b')\n",
    "#plt.semilogy(f, 'b')\n",
    "#plt.xlabel('Epochs')\n",
    "#plt.ylabel('Mean Squared Error')\n",
    "#plt.xlim([0, 399])\n",
    "\n",
    "#plt.legend()\n",
    "#plt.title(f'Comparison of Volume Inversion Training Data Error')\n",
    "\n",
    "# Save the plot\n",
    "#plt.savefig('mse_per_epochs_comparison_volume_inv_6000samples_opnet_10_layers_2.jpg')"
   ]
  },
  {
   "cell_type": "code",
   "execution_count": 17,
   "id": "c1f84d7c-8802-402e-928c-8778d779e2a2",
   "metadata": {},
   "outputs": [
    {
     "data": {
      "text/plain": [
       "<matplotlib.legend.Legend at 0x1bcba74b4c0>"
      ]
     },
     "execution_count": 17,
     "metadata": {},
     "output_type": "execute_result"
    },
    {
     "data": {
      "image/png": "[encoded data removed]",
      "text/plain": [
       "<Figure size 640x480 with 1 Axes>"
      ]
     },
     "metadata": {},
     "output_type": "display_data"
    }
   ],
   "source": [
    "#Plot, gradient clipping with different values to choose best\n",
    "gc2 = torch.load('./vol_inv_epochlosses_op_6000pcs_300epochs_clipped_grad_2_10_layers_lr1e2.pth')\n",
    "gc1 = torch.load('./vol_inv_epochlosses_op_6000pcs_300epochs_clipped_grad_1_10_layers_lr1e2.pth')\n",
    "gc01 = torch.load('./vol_inv_epochlosses_op_6000pcs_300epochs_clipped_grad_0_1_10_layers_lr1e1.pth')\n",
    "\n",
    "plt.semilogy(gc1)\n",
    "plt.semilogy(gc2)\n",
    "plt.semilogy(gc01)\n",
    "#plt.semilogy(losses_opnet)\n",
    "plt.legend(['Gradient clipped at 1','Gradient clippped at 2', 'Gradient clipped at 0.1, lr = 1e1'])"
   ]
  },
  {
   "cell_type": "markdown",
   "id": "f60e423d-3d85-403c-9ee5-747f77b77470",
   "metadata": {},
   "source": [
    "### Test the data\n"
   ]
  },
  {
   "cell_type": "markdown",
   "id": "d1f70c01-3c2f-47f1-9b75-28fb76931bee",
   "metadata": {},
   "source": [
    "If the data is already trained, load the trained parameters."
   ]
  },
  {
   "cell_type": "code",
   "execution_count": 11,
   "id": "c81fc4d5-316a-43a0-988d-2645e034b70b",
   "metadata": {},
   "outputs": [
    {
     "data": {
      "text/plain": [
       "<All keys matched successfully>"
      ]
     },
     "execution_count": 11,
     "metadata": {},
     "output_type": "execute_result"
    }
   ],
   "source": [
    "## Load trained variables\n",
    "#PATH ='volume_inversion_net_3150nodes1.pth'\n",
    "#PATH2 = 'volume_inversion_net_3150nodes2.pth'\n",
    "#PATH3 = 'volume_inversion_net_3150nodes3.pth'\n",
    "\n",
    "model.load_state_dict(torch.load(PATH))\n",
    "\n",
    "model_op.load_state_dict(torch.load(PATH_OP))"
   ]
  },
  {
   "cell_type": "code",
   "execution_count": 7,
   "id": "6b10cc77-22bc-4bbf-ae41-29c4994d2e55",
   "metadata": {},
   "outputs": [],
   "source": [
    "# Load the testing data\n",
    "\n",
    "# For shallow network\n",
    "test_loader = torch.utils.data.DataLoader(\n",
    "    load_data(\"volume_inversion_test_data2.npz\"),\n",
    "    batch_size=64)\n",
    "\n",
    "# For operator network\n",
    "test_loader_op = torch.utils.data.DataLoader(\n",
    "    load_data_op(\"for_opnet_volume_inversion_test_data2.npz\"),\n",
    "    batch_size=64)\n"
   ]
  },
  {
   "cell_type": "markdown",
   "id": "5ac28965-0671-4fc7-8128-84ff8cec01d8",
   "metadata": {},
   "source": [
    "Calculate samples for comparison"
   ]
  },
  {
   "cell_type": "markdown",
   "id": "815a7690-2a00-46e7-8406-46ddc58e5e5d",
   "metadata": {},
   "source": [
    "#### Feedforward Neural Network"
   ]
  },
  {
   "cell_type": "markdown",
   "id": "1584d038-9b21-426f-8dbb-6c80b3733afa",
   "metadata": {},
   "source": [
    "Calculate a sample"
   ]
  },
  {
   "cell_type": "code",
   "execution_count": 8,
   "id": "abce9a80-97a5-473e-8935-8d1da07fe276",
   "metadata": {},
   "outputs": [
    {
     "name": "stdout",
     "output_type": "stream",
     "text": [
      "True: \n",
      "tensor([0.8162, 0.7978])\n",
      "Prediction: \n",
      "tensor([0.8173, 0.8004])\n"
     ]
    }
   ],
   "source": [
    "dataiter = iter(test_loader)\n",
    "X, y = dataiter.next()\n",
    "with torch.no_grad():\n",
    "    pred = model(X).squeeze(1)\n",
    "print(\"True: \")\n",
    "print(y[:2])\n",
    "print(\"Prediction: \")\n",
    "print(pred[:2])"
   ]
  },
  {
   "cell_type": "markdown",
   "id": "f7123217-01f3-49cf-a7bd-013f576af954",
   "metadata": {},
   "source": [
    "Calculate average error"
   ]
  },
  {
   "cell_type": "code",
   "execution_count": 8,
   "id": "4ff6e674-6689-4fc1-a65a-7c8730e09ca4",
   "metadata": {},
   "outputs": [
    {
     "name": "stdout",
     "output_type": "stream",
     "text": [
      "Avg loss: 0.000011 \n",
      "\n"
     ]
    }
   ],
   "source": [
    "num_batches = len(test_loader)\n",
    "test_loss = 0\n",
    "with torch.no_grad():\n",
    "    for X, y in test_loader:\n",
    "        pred = model(X)\n",
    "        test_loss += loss_fn(pred.squeeze(1), y).item()\n",
    "test_loss /= num_batches\n",
    "print(f\"Avg loss: {test_loss:>8f} \\n\")\n"
   ]
  },
  {
   "cell_type": "markdown",
   "id": "998eef5e-f0e7-453a-84a0-12a4b219d8aa",
   "metadata": {},
   "source": [
    "#### Operator Recurrent Neural Network"
   ]
  },
  {
   "cell_type": "code",
   "execution_count": 9,
   "id": "b95672ac-a953-4522-af0a-738b890b423b",
   "metadata": {},
   "outputs": [
    {
     "name": "stdout",
     "output_type": "stream",
     "text": [
      "True: \n",
      "tensor([0.4143, 0.3950])\n",
      "Prediction: \n",
      "tensor([0.4146, 0.3967])\n"
     ]
    }
   ],
   "source": [
    "dataiter_op = iter(test_loader_op)\n",
    "X_o, y_o = dataiter_op.next()\n",
    "with torch.no_grad():\n",
    "    pred_op = model_op(X_o)\n",
    "   \n",
    "print(\"True: \")\n",
    "print(y_o[:2])\n",
    "print(\"Prediction: \")\n",
    "print(pred_op[:2])"
   ]
  },
  {
   "cell_type": "markdown",
   "id": "e7dc6ead-6b9b-4d2f-9d20-ce1ce299fa3f",
   "metadata": {},
   "source": [
    "Calculate the average loss"
   ]
  },
  {
   "cell_type": "code",
   "execution_count": 8,
   "id": "8489abf3-a4f4-4b8f-abc9-4bbc26bf33fd",
   "metadata": {},
   "outputs": [
    {
     "name": "stdout",
     "output_type": "stream",
     "text": [
      "Avg loss: 0.000021 \n",
      "\n"
     ]
    }
   ],
   "source": [
    "num_batches = len(test_loader_op)\n",
    "test_loss_op = 0\n",
    "with torch.no_grad():\n",
    "    for X_o, y_o in test_loader_op:\n",
    "        pred_op = model_op(X_o)\n",
    "        test_loss_op += loss_fn_op(pred_op,y_o).item() \n",
    "test_loss_op /= num_batches\n",
    "print(f\"Avg loss: {test_loss_op:>8f} \\n\")"
   ]
  },
  {
   "cell_type": "code",
   "execution_count": null,
   "id": "0e3ebd26-9aee-4b87-9b55-590a79cc18f2",
   "metadata": {},
   "outputs": [],
   "source": []
  }
 ],
 "metadata": {
  "kernelspec": {
   "display_name": "Python 3 (ipykernel)",
   "language": "python",
   "name": "python3"
  },
  "language_info": {
   "codemirror_mode": {
    "name": "ipython",
    "version": 3
   },
   "file_extension": ".py",
   "mimetype": "text/x-python",
   "name": "python",
   "nbconvert_exporter": "python",
   "pygments_lexer": "ipython3",
   "version": "3.10.6"
  }
 },
 "nbformat": 4,
 "nbformat_minor": 5
}
